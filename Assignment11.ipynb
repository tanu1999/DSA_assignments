{
 "cells": [
  {
   "attachments": {},
   "cell_type": "markdown",
   "metadata": {},
   "source": [
    "Question 1**\n",
    "Given a non-negative integer x, return the square root of x rounded down to the nearest integer. The returned integer should be non-negative as well.\n",
    "\n",
    "You must not use any built-in exponent function or operator.\n",
    "\n",
    "For example, do not use pow(x, 0.5) in c++ or x ** 0.5 in python.\n",
    "Example 1:\n",
    "\n"
   ]
  },
  {
   "cell_type": "code",
   "execution_count": 1,
   "metadata": {},
   "outputs": [
    {
     "name": "stdout",
     "output_type": "stream",
     "text": [
      "1 37 19\n",
      "1 18 9\n",
      "1 8 4\n",
      "5 8 6\n"
     ]
    },
    {
     "data": {
      "text/plain": [
       "6"
      ]
     },
     "execution_count": 1,
     "metadata": {},
     "output_type": "execute_result"
    }
   ],
   "source": [
    "def power(num):\n",
    "    \n",
    "    if(num==0):\n",
    "        return 0\n",
    "    \n",
    "    l=1\n",
    "    r=num\n",
    "    \n",
    "    while l<=r:\n",
    "        m=l+(r-l)//2\n",
    "        print(l,r,m)\n",
    "        if m*m==num or (m*m<num and (m+1)*(m+1)>num):\n",
    "            return m\n",
    "        elif(m+1)*(m+1)==num:\n",
    "            return m+1\n",
    "        elif m*m>num:\n",
    "            r=m-1\n",
    "        elif m*m<num:\n",
    "            l=m+1\n",
    "    return r\n",
    "        \n",
    "power(37)\n"
   ]
  },
  {
   "attachments": {},
   "cell_type": "markdown",
   "metadata": {},
   "source": [
    "Question 2**\n",
    "A peak element is an element that is strictly greater than its neighbors.\n",
    "\n",
    "Given a 0-indexed integer array nums, find a peak element, and return its index. If the array contains multiple peaks, return the index to any of the peaks.\n",
    "\n",
    "You may imagine that nums[-1] = nums[n] = -∞. In other words, an element is always considered to be strictly greater than a neighbor that is outside the array.\n",
    "\n",
    "You must write an algorithm that runs in O(log n) time.\n",
    "\n",
    "Example 1:"
   ]
  },
  {
   "cell_type": "code",
   "execution_count": 2,
   "metadata": {},
   "outputs": [
    {
     "data": {
      "text/plain": [
       "5"
      ]
     },
     "execution_count": 2,
     "metadata": {},
     "output_type": "execute_result"
    }
   ],
   "source": [
    "def peak(nums):\n",
    "    \n",
    "    if len(nums)<3:\n",
    "        return False\n",
    "    \n",
    "    l=0\n",
    "    r=len(nums)-1\n",
    "    \n",
    "    while l<r:\n",
    "        mid=l+(r-l)//2\n",
    "        \n",
    "        if nums[mid]<nums[mid+1]:\n",
    "            l=mid+1\n",
    "        \n",
    "        else:\n",
    "            r=mid\n",
    "        \n",
    "    return l\n",
    "peak([1,2,1,3,5,6,4])\n"
   ]
  },
  {
   "attachments": {},
   "cell_type": "markdown",
   "metadata": {},
   "source": [
    "Question 3**\n",
    "Given an array nums containing n distinct numbers in the range [0, n], return the only number in the range that is missing from the array.\n",
    "\n",
    "Example 1"
   ]
  },
  {
   "cell_type": "code",
   "execution_count": 3,
   "metadata": {},
   "outputs": [
    {
     "name": "stdout",
     "output_type": "stream",
     "text": [
      "Missing number: 4\n"
     ]
    }
   ],
   "source": [
    "def missingNumber(nums):\n",
    "    nums.sort()\n",
    "    left = 0\n",
    "    right = len(nums) - 1\n",
    "    \n",
    "    while left <= right:\n",
    "        mid = left + (right - left) // 2\n",
    "        \n",
    "        if nums[mid] == mid:\n",
    "            left = mid + 1\n",
    "        elif nums[mid] > mid:\n",
    "            right = mid - 1\n",
    "        else:\n",
    "            left = mid + 1\n",
    "    \n",
    "    return left\n",
    "\n",
    "# Example usage:\n",
    "nums = [1,3,0,5,2]\n",
    "missing = missingNumber(nums)\n",
    "print(\"Missing number:\", missing)\n"
   ]
  },
  {
   "attachments": {},
   "cell_type": "markdown",
   "metadata": {},
   "source": [
    "Question 4**\n",
    "Given an array of integers nums containing n + 1 integers where each integer is in the range [1, n] inclusive.\n",
    "\n",
    "There is only one repeated number in nums, return this repeated number.\n",
    "\n",
    "You must solve the problem without modifying the array nums and uses only constant extra space.\n",
    "\n",
    "Example 1:\n",
    "\n"
   ]
  },
  {
   "cell_type": "code",
   "execution_count": 4,
   "metadata": {},
   "outputs": [
    {
     "name": "stdout",
     "output_type": "stream",
     "text": [
      "Repeated number: 2\n"
     ]
    }
   ],
   "source": [
    "def findDuplicate(nums):\n",
    "    tortoise = hare = nums[0]\n",
    "    \n",
    "    # Phase 1: Find the intersection point of the two pointers\n",
    "    while True:\n",
    "        tortoise = nums[tortoise]\n",
    "        hare = nums[nums[hare]]\n",
    "        if tortoise == hare:\n",
    "            break\n",
    "    \n",
    "    # Phase 2: Find the entrance to the cycle (repeated number)\n",
    "    tortoise = nums[0]\n",
    "    while tortoise != hare:\n",
    "        tortoise = nums[tortoise]\n",
    "        hare = nums[hare]\n",
    "    \n",
    "    return hare\n",
    "\n",
    "# Example usage:\n",
    "nums = [1, 3, 4, 2, 2]\n",
    "repeated = findDuplicate(nums)\n",
    "print(\"Repeated number:\", repeated)\n"
   ]
  },
  {
   "attachments": {},
   "cell_type": "markdown",
   "metadata": {},
   "source": [
    "Question 5**\n",
    "Given two integer arrays nums1 and nums2, return an array of their intersection. Each element in the result must be unique and you may return the result in any order.\n",
    "\n",
    "Example 1:\n",
    "\n"
   ]
  },
  {
   "cell_type": "code",
   "execution_count": 5,
   "metadata": {},
   "outputs": [
    {
     "name": "stdout",
     "output_type": "stream",
     "text": [
      "Intersection: [2]\n"
     ]
    }
   ],
   "source": [
    "def intersection(nums1, nums2):\n",
    "    set1 = set(nums1)\n",
    "    set2 = set(nums2)\n",
    "    \n",
    "    result = set1.intersection(set2)\n",
    "    \n",
    "    return list(result)\n",
    "\n",
    "# Example usage:\n",
    "nums1 = [1, 2, 2, 1]\n",
    "nums2 = [2, 2]\n",
    "intersect = intersection(nums1, nums2)\n",
    "print(\"Intersection:\", intersect)\n"
   ]
  },
  {
   "attachments": {},
   "cell_type": "markdown",
   "metadata": {},
   "source": [
    "Question 6**\n",
    "Suppose an array of length n sorted in ascending order is rotated between 1 and n times. For example, the array nums = [0,1,2,4,5,6,7] might become:\n",
    "\n",
    "[4,5,6,7,0,1,2] if it was rotated 4 times.\n",
    "[0,1,2,4,5,6,7] if it was rotated 7 times.\n",
    "Notice that rotating an array [a[0], a[1], a[2], ..., a[n-1]] 1 time results in the array [a[n-1], a[0], a[1], a[2], ..., a[n-2]].\n",
    "\n",
    "Given the sorted rotated array nums of unique elements, return the minimum element of this array.\n",
    "\n",
    "You must write an algorithm that runs in O(log n) time.\n",
    "\n",
    "Example 1:\n",
    "\n"
   ]
  },
  {
   "cell_type": "code",
   "execution_count": 6,
   "metadata": {},
   "outputs": [
    {
     "name": "stdout",
     "output_type": "stream",
     "text": [
      "Minimum element: 0\n"
     ]
    }
   ],
   "source": [
    "def findMin(nums):\n",
    "    left = 0\n",
    "    right = len(nums) - 1\n",
    "    \n",
    "    while left < right:\n",
    "        mid = left + (right - left) // 2\n",
    "        \n",
    "        if nums[mid] < nums[right]:\n",
    "            right = mid\n",
    "        else:\n",
    "            left = mid + 1\n",
    "    \n",
    "    return nums[left]\n",
    "\n",
    "# Example usage:\n",
    "nums = [4, 5, 6, 7, 0, 1, 2]\n",
    "min_element = findMin(nums)\n",
    "print(\"Minimum element:\", min_element)\n"
   ]
  },
  {
   "attachments": {},
   "cell_type": "markdown",
   "metadata": {},
   "source": [
    "*Question 7**\n",
    "Given an array of integers nums sorted in non-decreasing order, find the starting and ending position of a given target value.\n",
    "\n",
    "If target is not found in the array, return [-1, -1].\n",
    "\n",
    "You must write an algorithm with O(log n) runtime complexity.\n",
    "\n",
    "Example 1:\n",
    "\n"
   ]
  },
  {
   "cell_type": "code",
   "execution_count": 7,
   "metadata": {},
   "outputs": [
    {
     "name": "stdout",
     "output_type": "stream",
     "text": [
      "Range: [3, 4]\n"
     ]
    }
   ],
   "source": [
    "def searchRange(nums, target):\n",
    "    def findFirst(nums, target):\n",
    "        left = 0\n",
    "        right = len(nums) - 1\n",
    "        index = -1\n",
    "        \n",
    "        while left <= right:\n",
    "            mid = left + (right - left) // 2\n",
    "            \n",
    "            if nums[mid] >= target:\n",
    "                right = mid - 1\n",
    "            else:\n",
    "                left = mid + 1\n",
    "            \n",
    "            if nums[mid] == target:\n",
    "                index = mid\n",
    "        \n",
    "        return index\n",
    "    \n",
    "    def findLast(nums, target):\n",
    "        left = 0\n",
    "        right = len(nums) - 1\n",
    "        index = -1\n",
    "        \n",
    "        while left <= right:\n",
    "            mid = left + (right - left) // 2\n",
    "            \n",
    "            if nums[mid] <= target:\n",
    "                left = mid + 1\n",
    "            else:\n",
    "                right = mid - 1\n",
    "            \n",
    "            if nums[mid] == target:\n",
    "                index = mid\n",
    "        \n",
    "        return index\n",
    "    \n",
    "    first = findFirst(nums, target)\n",
    "    last = findLast(nums, target)\n",
    "    \n",
    "    return [first, last]\n",
    "\n",
    "# Example usage:\n",
    "nums = [5, 7, 7, 8, 8, 10]\n",
    "target = 8\n",
    "range = searchRange(nums, target)\n",
    "print(\"Range:\", range)\n",
    "\n"
   ]
  }
 ],
 "metadata": {
  "kernelspec": {
   "display_name": "Python 3",
   "language": "python",
   "name": "python3"
  },
  "language_info": {
   "codemirror_mode": {
    "name": "ipython",
    "version": 3
   },
   "file_extension": ".py",
   "mimetype": "text/x-python",
   "name": "python",
   "nbconvert_exporter": "python",
   "pygments_lexer": "ipython3",
   "version": "3.8.16"
  },
  "orig_nbformat": 4
 },
 "nbformat": 4,
 "nbformat_minor": 2
}

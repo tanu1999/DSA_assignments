{
 "cells": [
  {
   "attachments": {},
   "cell_type": "markdown",
   "metadata": {},
   "source": [
    "Assignment 20 - Tree\n",
    "Question-1\n",
    "Given a binary tree, your task is to find subtree with maximum sum in tree.\n",
    "Examples:\n",
    "Input1 :\n",
    "       1\n",
    "\n",
    "     /   \\\n",
    "\n",
    "   2      3\n",
    "\n",
    "  / \\    / \\\n",
    "\n",
    "4   5  6   7\n",
    "\n",
    "Output1 : 28\n",
    "As all the tree elements are positive, the largest subtree sum is equal to sum of all tree elements.\n",
    "Input2 :\n",
    "       1\n",
    "\n",
    "     /    \\\n",
    "\n",
    "  -2      3\n",
    "\n",
    "  / \\    /  \\\n",
    "\n",
    "4   5  -6   2\n",
    "\n",
    "output2 : 7\n",
    "Subtree with largest sum is :\n",
    " -2\n",
    "\n",
    " / \\\n",
    "\n",
    "4   5\n",
    "Also, entire tree sum is also 7."
   ]
  },
  {
   "cell_type": "code",
   "execution_count": 2,
   "metadata": {},
   "outputs": [],
   "source": [
    "class TreeNode:\n",
    "    def __init__(self, val=0, left=None, right=None):\n",
    "        self.val = val\n",
    "        self.left = left\n",
    "        self.right = right\n",
    "\n",
    "def maxSubtreeSum(root):\n",
    "    def subtreeSum(node):\n",
    "        nonlocal max_sum\n",
    "\n",
    "        if node is None:\n",
    "            return 0\n",
    "\n",
    "        left_sum = subtreeSum(node.left)\n",
    "        right_sum = subtreeSum(node.right)\n",
    "\n",
    "        # Calculate the sum of the subtree rooted at the current node\n",
    "        current_sum = node.val + left_sum + right_sum\n",
    "\n",
    "        # Update the maximum sum if the current subtree has a larger sum\n",
    "        max_sum = max(max_sum, current_sum)\n",
    "\n",
    "        # Return the sum of the current subtree to be used by the parent node\n",
    "        return current_sum\n",
    "\n",
    "    max_sum = float('-inf') #initializes the variable max_sum with a value of negative infinity.\n",
    "    subtreeSum(root)\n",
    "    return max_sum\n"
   ]
  },
  {
   "cell_type": "code",
   "execution_count": 3,
   "metadata": {},
   "outputs": [
    {
     "name": "stdout",
     "output_type": "stream",
     "text": [
      "28\n"
     ]
    }
   ],
   "source": [
    "# Create the first tree \n",
    "root = TreeNode(1)\n",
    "root.left = TreeNode(2)\n",
    "root.right = TreeNode(3)\n",
    "root.left.left = TreeNode(4)\n",
    "root.left.right = TreeNode(5)\n",
    "root.right.left = TreeNode(6)\n",
    "root.right.right = TreeNode(7)\n",
    "\n",
    "# Calculate the subtree with the maximum sum\n",
    "max_sum = maxSubtreeSum(root)\n",
    "print(max_sum) \n"
   ]
  },
  {
   "attachments": {},
   "cell_type": "markdown",
   "metadata": {},
   "source": [
    "Question-2\n",
    "Construct the BST (Binary Search Tree) from its given level order traversal.\n",
    "Example:\n",
    "Input: arr[] = {7, 4, 12, 3, 6, 8, 1, 5, 10}\n",
    "Output: BST:\n",
    "\n",
    "            7\n",
    "\n",
    "         /    \\\n",
    "\n",
    "       4     12\n",
    "\n",
    "     /  \\     /\n",
    "\n",
    "    3   6    8\n",
    "\n",
    "   /   /      \\\n",
    "\n",
    " 1    5        10\n"
   ]
  },
  {
   "cell_type": "code",
   "execution_count": 4,
   "metadata": {},
   "outputs": [
    {
     "name": "stdout",
     "output_type": "stream",
     "text": [
      "1 3 5 4 6 10 7 8 12 "
     ]
    }
   ],
   "source": [
    "class Node:\n",
    "    def __init__(self, data):\n",
    "        self.data = data\n",
    "        self.left = None\n",
    "        self.right = None\n",
    "\n",
    "\n",
    "def constructBST(arr):\n",
    "    if len(arr) == 0:\n",
    "        return None\n",
    "\n",
    "    root = Node(arr[0])\n",
    "    queue = [root]\n",
    "    i = 1\n",
    "\n",
    "    while i < len(arr):\n",
    "        node = queue.pop(0)\n",
    "        if i < len(arr) and arr[i] < node.data:\n",
    "            node.left = Node(arr[i])\n",
    "            queue.append(node.left)\n",
    "            i += 1\n",
    "        if i < len(arr) and arr[i] > node.data:\n",
    "            node.right = Node(arr[i])\n",
    "            queue.append(node.right)\n",
    "            i += 1\n",
    "\n",
    "    return root\n",
    "\n",
    "\n",
    "def inorderTraversal(node):\n",
    "    if node is not None:\n",
    "        inorderTraversal(node.left)\n",
    "        print(node.data, end=\" \")\n",
    "        inorderTraversal(node.right)\n",
    "\n",
    "arr = [7, 4, 12, 3, 6, 8, 1, 5, 10]\n",
    "root = constructBST(arr)\n",
    "inorderTraversal(root)"
   ]
  },
  {
   "attachments": {},
   "cell_type": "markdown",
   "metadata": {},
   "source": [
    "Question-3\n",
    "Given an array of size n. The problem is to check whether the given array can represent the level order traversal of a Binary Search Tree or not.\n",
    "Examples:\n",
    "Input1 : arr[] = {7, 4, 12, 3, 6, 8, 1, 5, 10}\n",
    "Output1 : Yes\n",
    "For the given arr[], the Binary Search Tree is:\n",
    "            7\n",
    "\n",
    "         /    \\\n",
    "\n",
    "       4       12\n",
    "\n",
    "     /  \\     /\n",
    "\n",
    "    3   6    8\n",
    "\n",
    "  /    /     \\\n",
    "\n",
    " 1    5      10\n",
    "Input2 : arr[] = {11, 6, 13, 5, 12, 10}\n",
    "Output2 : No\n",
    "The given arr[] does not represent the level order traversal of a BST"
   ]
  },
  {
   "cell_type": "code",
   "execution_count": 5,
   "metadata": {},
   "outputs": [
    {
     "name": "stdout",
     "output_type": "stream",
     "text": [
      "False\n",
      "True\n"
     ]
    }
   ],
   "source": [
    "def isLevelOrderBST(arr):\n",
    "    if not arr:\n",
    "        return False\n",
    "\n",
    "    n = len(arr)\n",
    "    for i in range(n):\n",
    "        left_child = 2 * i + 1\n",
    "        right_child = 2 * i + 2\n",
    "\n",
    "        if left_child < n and arr[left_child] > arr[i]:\n",
    "            return False\n",
    "\n",
    "        if right_child < n and arr[right_child] < arr[i]:\n",
    "            return False\n",
    "\n",
    "    return True\n",
    "\n",
    "arr1 = [7, 4, 12, 3, 6, 8, 1, 5, 10]\n",
    "print(isLevelOrderBST(arr1))\n",
    "\n",
    "arr2 = [11, 6, 13, 5, 12, 10]\n",
    "print(isLevelOrderBST(arr2)) "
   ]
  },
  {
   "cell_type": "code",
   "execution_count": null,
   "metadata": {},
   "outputs": [],
   "source": []
  }
 ],
 "metadata": {
  "kernelspec": {
   "display_name": "Python 3",
   "language": "python",
   "name": "python3"
  },
  "language_info": {
   "codemirror_mode": {
    "name": "ipython",
    "version": 3
   },
   "file_extension": ".py",
   "mimetype": "text/x-python",
   "name": "python",
   "nbconvert_exporter": "python",
   "pygments_lexer": "ipython3",
   "version": "3.8.16"
  },
  "orig_nbformat": 4
 },
 "nbformat": 4,
 "nbformat_minor": 2
}

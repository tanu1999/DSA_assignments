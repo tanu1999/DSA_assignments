{
 "cells": [
  {
   "attachments": {},
   "cell_type": "markdown",
   "metadata": {},
   "source": [
    "Question 1**\n",
    "Given an integer n, return true if it is a power of three. Otherwise, return false.\n",
    "\n",
    "An integer n is a power of three, if there exists an integer x such that n == 3x.\n",
    "\n",
    "Example 1:\n",
    "\n"
   ]
  },
  {
   "cell_type": "code",
   "execution_count": 1,
   "metadata": {},
   "outputs": [
    {
     "data": {
      "text/plain": [
       "True"
      ]
     },
     "execution_count": 1,
     "metadata": {},
     "output_type": "execute_result"
    }
   ],
   "source": [
    "def pow3(num):\n",
    "    if (num<=1 or num%3!=0):\n",
    "        return False\n",
    "    if (num/3==1):\n",
    "        return True\n",
    "    else :\n",
    "        return pow3(num/3)\n",
    "pow3(27)\n"
   ]
  },
  {
   "attachments": {},
   "cell_type": "markdown",
   "metadata": {},
   "source": [
    "Question 2**\n",
    "You have a list arr of all integers in the range [1, n] sorted in a strictly increasing order. Apply the following algorithm on arr:\n",
    "\n",
    "Starting from left to right, remove the first number and every other number afterward until you reach the end of the list.\n",
    "Repeat the previous step again, but this time from right to left, remove the rightmost number and every other number from the remaining numbers.\n",
    "Keep repeating the steps again, alternating left to right and right to left, until a single number remains.\n",
    "Given the integer n, return the last number that remains in arr.\n",
    "\n"
   ]
  },
  {
   "cell_type": "code",
   "execution_count": 2,
   "metadata": {},
   "outputs": [
    {
     "name": "stdout",
     "output_type": "stream",
     "text": [
      "6\n"
     ]
    }
   ],
   "source": [
    "def lastRemaining(n):\n",
    "    arr = list(range(1, n+1))\n",
    "    return removeNumbers(arr, True)\n",
    "\n",
    "def removeNumbers(arr, isLeft):\n",
    "    if len(arr) == 1:\n",
    "        return arr[0]\n",
    "\n",
    "    if isLeft:\n",
    "        return removeNumbers(arr[1::2], not isLeft)\n",
    "    else:\n",
    "        return removeNumbers(arr[-2::-2][::-1], not isLeft)\n",
    "\n",
    "# Example usage\n",
    "n = 9\n",
    "result = lastRemaining(n)\n",
    "print(result)  # Output: 6\n"
   ]
  },
  {
   "attachments": {},
   "cell_type": "markdown",
   "metadata": {},
   "source": [
    "Question 3\n",
    "\n",
    "****Given a set represented as a string, write a recursive code to print all subsets of it. The subsets can be printed in any order.\n",
    "\n",
    "Example 1:\n",
    "\n",
    "Input : set = “abc”\n",
    "\n",
    "Output : { “”, “a”, “b”, “c”, “ab”, “ac”, “bc”, “abc”}\n",
    "\n",
    "Example 2:\n",
    "\n",
    "Input : set = “abcd”\n",
    "\n",
    "Output : { “”, “a” ,”ab” ,”abc” ,”abcd”, “abd” ,”ac” ,”acd”, “ad” ,”b”, “bc” ,”bcd” ,”bd” ,”c” ,”cd” ,”d” }\n",
    "\n"
   ]
  },
  {
   "cell_type": "code",
   "execution_count": 3,
   "metadata": {},
   "outputs": [
    {
     "name": "stdout",
     "output_type": "stream",
     "text": [
      "\n",
      "c\n",
      "b\n",
      "bc\n",
      "a\n",
      "ac\n",
      "ab\n",
      "abc\n"
     ]
    }
   ],
   "source": [
    "def print_subsets(s, curr_set ,index):\n",
    "    if index ==len(s):\n",
    "        print(curr_set)\n",
    "        return\n",
    "    # Exclude the current character\n",
    "    print_subsets(s,curr_set ,index+1)\n",
    "    \n",
    "    # Include the current character\n",
    "    \n",
    "    print_subsets(s,curr_set +s[index] ,index+1)\n",
    "    \n",
    "def subsets_of_set(s):\n",
    "    print_subsets(s,\"\",0)\n",
    "    \n",
    "subsets_of_set(\"abc\")\n"
   ]
  },
  {
   "attachments": {},
   "cell_type": "markdown",
   "metadata": {},
   "source": [
    "Question 4**\n",
    "Given a string calculate length of the string using recursion. Input : str = \"abcd\" Output :4\n",
    "\n",
    "Input : str = \"GEEKSFORGEEKS\" Output :13\n",
    "\n"
   ]
  },
  {
   "cell_type": "code",
   "execution_count": 4,
   "metadata": {},
   "outputs": [
    {
     "data": {
      "text/plain": [
       "14"
      ]
     },
     "execution_count": 4,
     "metadata": {},
     "output_type": "execute_result"
    }
   ],
   "source": [
    "def length(s):\n",
    "    count=0\n",
    "    if s==\"\":\n",
    "        return count\n",
    "    \n",
    "    else:\n",
    "        count+=1\n",
    "        return count+ length(s[1::])\n",
    "    \n",
    "length(\"geeksfor geeks\")\n"
   ]
  },
  {
   "attachments": {},
   "cell_type": "markdown",
   "metadata": {},
   "source": [
    "Question 5\n",
    "\n",
    "We are given a string S, we need to find count of all contiguous substrings starting and ending with same character."
   ]
  },
  {
   "cell_type": "code",
   "execution_count": 5,
   "metadata": {},
   "outputs": [],
   "source": [
    "def count_contiguous_substrings(s):\n",
    "    count=0\n",
    "    \n",
    "    # Recursive helper function\n",
    "    \n",
    "    def helper(start,end):\n",
    "        nonlocal count\n",
    "        \n",
    "        #Base case: If start and end indices cross each other\n",
    "        \n",
    "        if start> end:\n",
    "            return\n",
    "        \n",
    "        # If the substring from start to end is valid\n",
    "        \n",
    "        if s[start]==s[end]:\n",
    "            count+=1\n",
    "            \n",
    "        # Recurse with next start and end indices\n",
    "        helper(start ,end-1)\n",
    "        helper(start + 1 ,end)\n",
    "        \n",
    "        #Start the recursion with initial indices\n",
    "    helper(0,len(s)-1)\n",
    "    return count\n",
    "        \n"
   ]
  },
  {
   "cell_type": "code",
   "execution_count": 6,
   "metadata": {},
   "outputs": [
    {
     "name": "stdout",
     "output_type": "stream",
     "text": [
      "9\n"
     ]
    }
   ],
   "source": [
    "#Example usage:\n",
    "s = \"abca\"\n",
    "print(count_contiguous_substrings(s))\n"
   ]
  },
  {
   "attachments": {},
   "cell_type": "markdown",
   "metadata": {},
   "source": [
    "Question 6**\n",
    "The tower of Hanoi is a famous puzzle where we have three rods and N disks. The objective of the puzzle is to move the entire stack to another rod. You are given the number of discs N. Initially, these discs are in the rod 1. You need to print all the steps of discs movement so that all the discs reach the 3rd rod. Also, you need to find the total moves.Note: The discs are arranged such that the top disc is numbered 1 and the bottom-most disc is numbered N. Also, all the discs have different sizes and a bigger disc cannot be put on the top of a smaller disc. Refer the provided link to get a better clarity about the puzzle.\n",
    "\n"
   ]
  },
  {
   "cell_type": "code",
   "execution_count": 7,
   "metadata": {},
   "outputs": [
    {
     "name": "stdout",
     "output_type": "stream",
     "text": [
      "Move disk 1 from Rod 1 to Rod 3\n",
      "Move disk 2 from Rod 1 to Rod 2\n",
      "Move disk 1 from Rod 3 to Rod 2\n",
      "Move disk 3 from Rod 1 to Rod 3\n",
      "Move disk 1 from Rod 2 to Rod 1\n",
      "Move disk 2 from Rod 2 to Rod 3\n",
      "Move disk 1 from Rod 1 to Rod 3\n",
      "Total moves: 7\n"
     ]
    }
   ],
   "source": [
    "def tower_of_hanoi(n, source, destination, auxiliary):\n",
    "    if n == 1:\n",
    "        print(f\"Move disk 1 from {source} to {destination}\")\n",
    "        return 1\n",
    "    else:\n",
    "        moves = 0\n",
    "        moves += tower_of_hanoi(n - 1, source, auxiliary, destination)\n",
    "        print(f\"Move disk {n} from {source} to {destination}\")\n",
    "        moves += 1\n",
    "        moves += tower_of_hanoi(n - 1, auxiliary, destination, source)\n",
    "        return moves\n",
    "\n",
    "# Example usage:\n",
    "n = 3\n",
    "total_moves = tower_of_hanoi(n, \"Rod 1\", \"Rod 3\", \"Rod 2\")\n",
    "print(f\"Total moves: {total_moves}\")\n"
   ]
  },
  {
   "attachments": {},
   "cell_type": "markdown",
   "metadata": {},
   "source": [
    "Question 7**\n",
    "Given a string str, the task is to print all the permutations of str. A permutation is an arrangement of all or part of a set of objects, with regard to the order of the arrangement. For instance, the words ‘bat’ and ‘tab’ represents two distinct permutation (or arrangements) of a similar three letter word.\n",
    "\n"
   ]
  },
  {
   "cell_type": "code",
   "execution_count": 8,
   "metadata": {},
   "outputs": [
    {
     "name": "stdout",
     "output_type": "stream",
     "text": [
      "abc\n",
      "acb\n",
      "bac\n",
      "bca\n",
      "cab\n",
      "cba\n"
     ]
    }
   ],
   "source": [
    "def permutations(s,current=\"\"):\n",
    "    # Base case: If all characters of the string have been used.\n",
    "    \n",
    "    if len(s)==0:\n",
    "        print(current)\n",
    "        return\n",
    "    for i in range(len(s)):\n",
    "        permutations(s[:i]+s[i+1:] ,current + s[i])\n",
    "    \n",
    "# Example usage:\n",
    "s = \"abc\"\n",
    "permutations(s)\n"
   ]
  },
  {
   "attachments": {},
   "cell_type": "markdown",
   "metadata": {},
   "source": [
    "**Question 8**\n",
    "Given a string, count total number of consonants in it. A consonant is an English alphabet character that is not vowel (a, e, i, o and u). Examples of constants are b, c, d, f, and g.\n",
    "\n",
    "Examples :\n",
    "\n"
   ]
  },
  {
   "cell_type": "code",
   "execution_count": 9,
   "metadata": {},
   "outputs": [
    {
     "name": "stdout",
     "output_type": "stream",
     "text": [
      "Number of consonants: 7\n"
     ]
    }
   ],
   "source": [
    "def count_consonants(s):\n",
    "    if len(s)==0:\n",
    "        return 0\n",
    "    count= count_consonants(s[1:])\n",
    "    \n",
    "    if s[0].lower() not in ['a','e','i','o','u'] and s[0].isalpha():\n",
    "        count+=1\n",
    "    return count\n",
    "        \n",
    "    \n",
    "# Example usage:\n",
    "s = \"Hello World\"\n",
    "consonant_count = count_consonants(s)\n",
    "print(\"Number of consonants:\", consonant_count)\n"
   ]
  }
 ],
 "metadata": {
  "kernelspec": {
   "display_name": "Python 3",
   "language": "python",
   "name": "python3"
  },
  "language_info": {
   "codemirror_mode": {
    "name": "ipython",
    "version": 3
   },
   "file_extension": ".py",
   "mimetype": "text/x-python",
   "name": "python",
   "nbconvert_exporter": "python",
   "pygments_lexer": "ipython3",
   "version": "3.8.16"
  },
  "orig_nbformat": 4
 },
 "nbformat": 4,
 "nbformat_minor": 2
}

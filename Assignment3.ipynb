{
 "cells": [
  {
   "attachments": {},
   "cell_type": "markdown",
   "metadata": {},
   "source": [
    "Question 1 Given an integer array nums of length n and an integer target, find three integers in nums such that the sum is closest to the target. Return the sum of the three integers. You may assume that each input would have exactly one solution. Example 1: Input: nums = [-1,2,1,-4], target = 1 Output: 2 Explanation: The sum that is closest to the target is 2. (-1 + 2 + 1 = 2).\n",
    "\n"
   ]
  },
  {
   "cell_type": "code",
   "execution_count": 1,
   "metadata": {},
   "outputs": [
    {
     "data": {
      "text/plain": [
       "2"
      ]
     },
     "execution_count": 1,
     "metadata": {},
     "output_type": "execute_result"
    }
   ],
   "source": [
    "def threeClosestSum(nums,target):\n",
    "    nums.sort()\n",
    "    n=len(nums)\n",
    "    closest_sum = float('inf')\n",
    "    \n",
    "    for i in range (0 , n-2):\n",
    "        l=i+1\n",
    "        r=n-1\n",
    "        \n",
    "        while l <r:\n",
    "            current_sum = nums[i]+nums[l]+nums[r]\n",
    "            \n",
    "            if current_sum==target:\n",
    "                return current_sum\n",
    "            \n",
    "            if abs(current_sum-target)< abs(closest_sum -target):\n",
    "                closest_sum = current_sum\n",
    "                \n",
    "            if current_sum < target:\n",
    "                l+=1\n",
    "            else:\n",
    "                r-=1\n",
    "    return closest_sum\n",
    "threeClosestSum( [-1,2,1,-4],1)\n"
   ]
  },
  {
   "attachments": {},
   "cell_type": "markdown",
   "metadata": {},
   "source": [
    "Question 2 Given an array nums of n integers, return an array of all the unique quadruplets [nums[a], nums[b], nums[c], nums[d]] such that: ● 0 <= a, b, c, d < n ● a, b, c, and d are distinct. ● nums[a] + nums[b] + nums[c] + nums[d] == target You may return the answer in any order. Example 1: Input: nums = [1,0,-1,0,-2,2], target = 0 Output: [[-2,-1,1,2],[-2,0,0,2],[-1,0,0,1]]\n",
    "\n"
   ]
  },
  {
   "cell_type": "code",
   "execution_count": 2,
   "metadata": {},
   "outputs": [],
   "source": [
    "def quadruplets(nums,target):\n",
    "    nums.sort()\n",
    "    n=len(nums)-1\n",
    "    res=[]\n",
    "    \n",
    "    for i in range(0,n-2):\n",
    "        \n",
    "        #Skip duplicates for th first element\n",
    "        \n",
    "        if i>0 and nums[i] == nums[i-1]:\n",
    "            continue\n",
    "        \n",
    "        for j in range (i+1,n-1):\n",
    "            \n",
    "            if j>i+1 and nums[j] ==nums[j-1]:\n",
    "                continue\n",
    "                \n",
    "                \n",
    "            l=j+1\n",
    "            r=n\n",
    "                    \n",
    "            while l < r:\n",
    "                sum= nums[i]+nums[j]+nums[l]+nums[r]\n",
    "                        \n",
    "                if sum == target:\n",
    "                    res.append([nums[i],nums[j],nums[l],nums[r]])\n",
    "                    \n",
    "                    while l<r and nums[l]==nums[l+1]:\n",
    "                        l+=1\n",
    "                    \n",
    "                    while l<r and nums[r] == nums[r-1]:\n",
    "                        r-+1\n",
    "                    \n",
    "                    l+=1\n",
    "                    r-=1\n",
    "                if sum < target:\n",
    "                    l+=1\n",
    "                if sum>target:\n",
    "                    r-=1\n",
    "    \n",
    "    return res\n",
    "                        \n",
    "                        \n"
   ]
  },
  {
   "cell_type": "code",
   "execution_count": null,
   "metadata": {},
   "outputs": [],
   "source": [
    "quadruplets([1,0,-1,0,-2,2,1,1,1,1,-1,-1,-1,-1,-2,-2,2,0],0)\n"
   ]
  },
  {
   "attachments": {},
   "cell_type": "markdown",
   "metadata": {},
   "source": [
    "Question 3 A permutation of an array of integers is an arrangement of its members into a sequence or linear order. ● For example, for arr = [1,2,3], the following are all the permutations of arr: [1,2,3], [1,3,2], [2, 1, 3], [2, 3, 1], [3,1,2], [3,2,1]. The next permutation of an array of integers is the next lexicographically greater permutation of its integer. More formally, if all the permutations of the array are sorted in one container according to their lexicographical order, then the next permutation of that array is the permutation that follows it in the sorted container. If such an arrangement is not possible, the array must be rearranged as the lowest possible order (i.e., sorted in ascending order). ● For example, the next permutation of arr = [1,2,3] is [1,3,2]. ● Similarly, the next permutation of arr = [2,3,1] is [3,1,2]. ● While the next permutation of arr = [3,2,1] is [1,2,3] because [3,2,1] does not have a lexicographical larger rearrangement. Given an array of integers nums, find the next permutation of nums. The replacement must be in place and use only constant extra memory. Example 1: Input: nums = [1,2,3] Output: [1,3,2]"
   ]
  },
  {
   "cell_type": "code",
   "execution_count": 5,
   "metadata": {},
   "outputs": [
    {
     "data": {
      "text/plain": [
       "[1, 3, 2]"
      ]
     },
     "execution_count": 5,
     "metadata": {},
     "output_type": "execute_result"
    }
   ],
   "source": [
    "def perm(nums):\n",
    "    i=len(nums)-1\n",
    "    while i>0:\n",
    "        if nums[i]>nums[i-1]:\n",
    "            nums[i],nums[i-1]=nums[i-1],nums[i]\n",
    "            break\n",
    "        else:\n",
    "            i-=1\n",
    "   \n",
    "    \n",
    "    return nums[:i] + nums[len(nums)-1:i-1:-1]\n",
    "   \n",
    "perm([1,2,3])"
   ]
  },
  {
   "attachments": {},
   "cell_type": "markdown",
   "metadata": {},
   "source": [
    "Question 4 Given a sorted array of distinct integers and a target value, return the index if the target is found. If not, return the index where it would be if it were inserted in order. You must write an algorithm with O(log n) runtime complexity. Example 1: Input: nums = [1,3,5,6], target = 5 Output: 2\n",
    "\n"
   ]
  },
  {
   "cell_type": "code",
   "execution_count": 6,
   "metadata": {},
   "outputs": [],
   "source": [
    "def Search(nums,target):\n",
    "    l=0\n",
    "    r=len(nums)-1\n",
    "    \n",
    "    while l<r:\n",
    "        m=l+r//2\n",
    "        if nums[m]==target:\n",
    "            return m\n",
    "        if nums[m] < target:\n",
    "            l=m+1\n",
    "        else:\n",
    "            r=m-1\n",
    "    else:\n",
    "        return l\n"
   ]
  },
  {
   "cell_type": "code",
   "execution_count": 7,
   "metadata": {},
   "outputs": [
    {
     "data": {
      "text/plain": [
       "2"
      ]
     },
     "execution_count": 7,
     "metadata": {},
     "output_type": "execute_result"
    }
   ],
   "source": [
    "Search([1,3,5,6],4)"
   ]
  },
  {
   "attachments": {},
   "cell_type": "markdown",
   "metadata": {},
   "source": [
    "Question 5 You are given a large integer represented as an integer array digits, where each digits[i] is the ith digit of the integer. The digits are ordered from most significant to least significant in left-to-right order. The large integer does not contain any leading 0's. Increment the large integer by one and return the resulting array of digits. Example 1: Input: digits = [1,2,3] Output: [1,2,4] Explanation: The array represents the integer 123. Incrementing by one gives 123 + 1 = 124. Thus, the result should be [1,2,4]."
   ]
  },
  {
   "cell_type": "code",
   "execution_count": 8,
   "metadata": {},
   "outputs": [],
   "source": [
    "def AddOne(nums):\n",
    "    n=len(nums)-1\n",
    "    \n",
    "    for i in range(n,-1,-1):\n",
    "        if nums[i]<9:\n",
    "            nums[i]+=1\n",
    "            return nums\n",
    "        elif nums[i]==9:\n",
    "            nums[i]=0\n",
    "            \n",
    "    return [1]+nums"
   ]
  },
  {
   "cell_type": "code",
   "execution_count": 9,
   "metadata": {},
   "outputs": [
    {
     "data": {
      "text/plain": [
       "[1, 3, 0]"
      ]
     },
     "execution_count": 9,
     "metadata": {},
     "output_type": "execute_result"
    }
   ],
   "source": [
    "AddOne([1,2,9])"
   ]
  },
  {
   "attachments": {},
   "cell_type": "markdown",
   "metadata": {},
   "source": [
    "\n",
    "Question 6 Given a non-empty array of integers nums, every element appears twice except for one. Find that single one. You must implement a solution with a linear runtime complexity and use only constant extra space. Example 1: Input: nums = [2,2,1]\n"
   ]
  },
  {
   "cell_type": "code",
   "execution_count": 10,
   "metadata": {},
   "outputs": [],
   "source": [
    "def Unique(nums):\n",
    "    res=0\n",
    "    \n",
    "    for i in nums:\n",
    "        res ^= i\n",
    "    return res"
   ]
  },
  {
   "cell_type": "code",
   "execution_count": 11,
   "metadata": {},
   "outputs": [
    {
     "data": {
      "text/plain": [
       "1"
      ]
     },
     "execution_count": 11,
     "metadata": {},
     "output_type": "execute_result"
    }
   ],
   "source": [
    "Unique([2,2,1])\n"
   ]
  },
  {
   "attachments": {},
   "cell_type": "markdown",
   "metadata": {},
   "source": [
    "Question 7 You are given an inclusive range [lower, upper] and a sorted unique integer array nums, where all elements are within the inclusive range. A number x is considered missing if x is in the range [lower, upper] and x is not in nums. Return the shortest sorted list of ranges that exactly covers all the missing numbers. That is, no element of nums is included in any of the ranges, and each missing number is covered by one of the ranges. Example 1: Input: nums = [0,1,3,50,75], lower = 0, upper = 99 Output: [[2,2],[4,49],[51,74],[76,99]] Explanation: The ranges are: [2,2] [4,49] [51,74] [76,99]\n",
    "\n"
   ]
  },
  {
   "cell_type": "code",
   "execution_count": 12,
   "metadata": {},
   "outputs": [],
   "source": [
    "def missingRange(nums,lower,upper):\n",
    "    res=[]\n",
    "    for i in range (0,len(nums)):\n",
    "        if i==0 and nums[i]>lower :\n",
    "            res.append([lower,nums[i]-1])\n",
    "        if i<len(nums)-1 and nums[i+1]!=nums[i]+1:\n",
    "            res.append([nums[i]+1,nums[i+1]-1])\n",
    "        if i==len(nums)-1 and nums[i]< upper:\n",
    "            res.append([nums[i]+1,upper])\n",
    "    return res\n"
   ]
  },
  {
   "cell_type": "code",
   "execution_count": 13,
   "metadata": {},
   "outputs": [
    {
     "data": {
      "text/plain": [
       "[[0, 0], [2, 2], [4, 49], [51, 98]]"
      ]
     },
     "execution_count": 13,
     "metadata": {},
     "output_type": "execute_result"
    }
   ],
   "source": [
    "missingRange([1,3,50,99],0,99)"
   ]
  },
  {
   "attachments": {},
   "cell_type": "markdown",
   "metadata": {},
   "source": [
    "Question 8 Given an array of meeting time intervals where intervals[i] = [starti, endi], determine if a person could attend all meetings. Example 1: Input: intervals = [[0,30],[5,10],[15,20]] Output: false\n",
    "\n"
   ]
  },
  {
   "cell_type": "code",
   "execution_count": 14,
   "metadata": {},
   "outputs": [],
   "source": [
    "def meetings(nums):\n",
    "    nums.sort(key=lambda x:x[0])\n",
    "    \n",
    "    for i in range (1,len(nums)):\n",
    "        if nums[i][0] < nums[i-1][1]:\n",
    "            return False\n",
    "    return True"
   ]
  },
  {
   "cell_type": "code",
   "execution_count": 15,
   "metadata": {},
   "outputs": [
    {
     "data": {
      "text/plain": [
       "True"
      ]
     },
     "execution_count": 15,
     "metadata": {},
     "output_type": "execute_result"
    }
   ],
   "source": [
    "meetings([[0,2],[5,10],[15,20]])"
   ]
  }
 ],
 "metadata": {
  "kernelspec": {
   "display_name": "Python 3",
   "language": "python",
   "name": "python3"
  },
  "language_info": {
   "codemirror_mode": {
    "name": "ipython",
    "version": 3
   },
   "file_extension": ".py",
   "mimetype": "text/x-python",
   "name": "python",
   "nbconvert_exporter": "python",
   "pygments_lexer": "ipython3",
   "version": "3.8.16"
  },
  "orig_nbformat": 4
 },
 "nbformat": 4,
 "nbformat_minor": 2
}

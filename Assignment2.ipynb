{
 "cells": [
  {
   "attachments": {},
   "cell_type": "markdown",
   "metadata": {},
   "source": [
    "Question 1 Given an integer array nums of 2n integers, group these integers into n pairs (a1, b1), (a2, b2), ..., (an, bn) such that the sum of min(ai, bi) for all i is maximized. Return the maximized sum. Example 1: Input: nums = [1,4,3,2] Output: 4 Explanation: All possible pairings (ignoring the ordering of elements) are:\n",
    "\n",
    "(1, 4), (2, 3) -> min(1, 4) + min(2, 3) = 1 + 2 = 3\n",
    "(1, 3), (2, 4) -> min(1, 3) + min(2, 4) = 1 + 2 = 3\n",
    "(1, 2), (3, 4) -> min(1, 2) + min(3, 4) = 1 + 3 = 4\n",
    "So the maximum possible sum is 4\n",
    "\n",
    "\n"
   ]
  },
  {
   "cell_type": "code",
   "execution_count": 1,
   "metadata": {},
   "outputs": [
    {
     "data": {
      "text/plain": [
       "4"
      ]
     },
     "execution_count": 1,
     "metadata": {},
     "output_type": "execute_result"
    }
   ],
   "source": [
    "class Solution:\n",
    "    def MaxPairSum(self,nums):\n",
    "        nums.sort()\n",
    "        max=0\n",
    "        for i in range (0,len(nums),2):\n",
    "            max+=nums[i]\n",
    "        return max\n",
    "s=Solution()\n",
    "s.MaxPairSum([1,4,3,2])\n"
   ]
  },
  {
   "attachments": {},
   "cell_type": "markdown",
   "metadata": {},
   "source": [
    "Question:2\n",
    "Alice has n candies, where the ith candy is of type candyType[i]. Alice noticed that she started to gain weight, so she visited a doctor. The doctor advised Alice to only eat n / 2 of the candies she has (n is always even). Alice likes her candies very much, and she wants to eat the maximum number of different types of candies while still following the doctor's advice. Given the integer array candyType of length n, return the maximum number of different types of candies she can eat if she only eats n / 2 of them. Example 1: Input: candyType = [1,1,2,2,3,3] Output: 3 Explanation: Alice can only eat 6 / 2 = 3 candies. Since there are only 3 types, she can eat one of each type."
   ]
  },
  {
   "cell_type": "code",
   "execution_count": 2,
   "metadata": {},
   "outputs": [
    {
     "data": {
      "text/plain": [
       "2"
      ]
     },
     "execution_count": 2,
     "metadata": {},
     "output_type": "execute_result"
    }
   ],
   "source": [
    "class Candy:\n",
    "    def maxCandy(self,nums):\n",
    "        s=set(nums)\n",
    "        ls=len(s)\n",
    "        ln=len(nums)\n",
    "        if ln/2>=ls:\n",
    "            return ls\n",
    "        else:\n",
    "            return int(ln/2)\n",
    "        \n",
    "c=Candy()\n",
    "c.maxCandy([1,2,3,4])\n"
   ]
  },
  {
   "attachments": {},
   "cell_type": "markdown",
   "metadata": {},
   "source": [
    "Question 3 We define a harmonious array as an array where the difference between its maximum value and its minimum value is exactly 1. Given an integer array nums, return the length of its longest harmonious subsequence among all its possible subsequences. A subsequence of an array is a sequence that can be derived from the array by deleting some or no elements without changing the order of the remaining elements. Example 1: Input: nums = [1,3,2,2,5,2,3,7] Output: 5 Explanation: The longest harmonious subsequence is [3,2,2,2,3].\n",
    "\n"
   ]
  },
  {
   "cell_type": "code",
   "execution_count": 3,
   "metadata": {},
   "outputs": [
    {
     "data": {
      "text/plain": [
       "5"
      ]
     },
     "execution_count": 3,
     "metadata": {},
     "output_type": "execute_result"
    }
   ],
   "source": [
    "def findLHS(nums):\n",
    "    freq_count={}\n",
    "    max_length=0\n",
    "    \n",
    "    #Count the frequency of each number\n",
    "    for num in nums:\n",
    "        freq_count[num] =freq_count.get(num,0)+1\n",
    "        \n",
    "    #Iterate through dictionary and check for pair with difference 1\n",
    "    for num in freq_count:\n",
    "        if num+1 in freq_count:\n",
    "            length= freq_count[num]+freq_count[num+1]\n",
    "            max_length =max(max_length ,length)\n",
    "    return max_length\n",
    "findLHS( [1,3,2,2,5,2,3,7])\n"
   ]
  },
  {
   "attachments": {},
   "cell_type": "markdown",
   "metadata": {},
   "source": [
    "You have a long flowerbed in which some of the plots are planted, and some are not. However, flowers cannot be planted in adjacent plots. Given an integer array flowerbed containing 0's and 1's, where 0 means empty and 1 means not empty, and an integer n, return true if n new flowers can be planted in the flowerbed without violating the no-adjacent-flowers rule and false otherwise. Example 1: Input: flowerbed = [1,0,0,0,1], n = 1 Output: true\n",
    "\n"
   ]
  },
  {
   "cell_type": "code",
   "execution_count": 4,
   "metadata": {},
   "outputs": [
    {
     "data": {
      "text/plain": [
       "True"
      ]
     },
     "execution_count": 4,
     "metadata": {},
     "output_type": "execute_result"
    }
   ],
   "source": [
    "def Plant(nums,n):\n",
    "    i=0\n",
    "    count=0\n",
    "    while i<len(nums):\n",
    "        if nums[i]==0 and (i==0 or nums[i-1]==0) and (i==len(nums)-1 or nums[i+1]==0 ) :\n",
    "            count+=1\n",
    "            nums[i]=1\n",
    "            if count>=n:\n",
    "                return True\n",
    "        i+=1\n",
    "        \n",
    "    return False\n",
    "        \n",
    "    \n",
    " \n",
    "Plant([1,0,0,0,1],1)\n"
   ]
  },
  {
   "attachments": {},
   "cell_type": "markdown",
   "metadata": {},
   "source": [
    "Question 5 Given an integer array nums, find three numbers whose product is maximum and return the maximum product. Example 1: Input: nums = [1,2,3] Output: 6\n",
    "\n"
   ]
  },
  {
   "cell_type": "code",
   "execution_count": 5,
   "metadata": {},
   "outputs": [
    {
     "data": {
      "text/plain": [
       "60"
      ]
     },
     "execution_count": 5,
     "metadata": {},
     "output_type": "execute_result"
    }
   ],
   "source": [
    "def maxProduct(nums):\n",
    "    nums.sort()\n",
    "    l=len(nums)-1\n",
    "    return max(nums[l]*nums[l-1]*nums[l-2] ,nums[0]*nums[1] *nums[l])\n",
    "nums = [-5,-4,1,2,3]\n",
    "maxProduct(nums)\n"
   ]
  },
  {
   "attachments": {},
   "cell_type": "markdown",
   "metadata": {},
   "source": [
    "Question 6 Given an array of integers nums which is sorted in ascending order, and an integer target, write a function to search target in nums. If target exists, then return its index. Otherwise, return -1. You must write an algorithm with O(log n) runtime complexity. Input: nums = [-1,0,3,5,9,12], target = 9 Output: 4 Explanation: 9 exists in nums and its index is 4\n",
    "\n"
   ]
  },
  {
   "cell_type": "code",
   "execution_count": 6,
   "metadata": {},
   "outputs": [
    {
     "data": {
      "text/plain": [
       "-1"
      ]
     },
     "execution_count": 6,
     "metadata": {},
     "output_type": "execute_result"
    }
   ],
   "source": [
    "class Solution:\n",
    "    def findIndex(self,nums,target):\n",
    "        l=0\n",
    "        h=len(nums)-1\n",
    "        while l < h:\n",
    "            \n",
    "            m=(l+h)//2\n",
    "            \n",
    "            if nums[m]==target:\n",
    "                return m\n",
    "            elif nums[m] < target:\n",
    "                l=m+1\n",
    "            else:\n",
    "                h=m-1\n",
    "        \n",
    "        return -1\n",
    "        \n",
    "s=Solution()\n",
    "s.findIndex( [-1,0,3,5,12],9)\n"
   ]
  },
  {
   "attachments": {},
   "cell_type": "markdown",
   "metadata": {},
   "source": [
    "Question 7 An array is monotonic if it is either monotone increasing or monotone decreasing. An array nums is monotone increasing if for all i <= j, nums[i] <= nums[j]. An array nums is monotone decreasing if for all i <= j, nums[i] >= nums[j]. Given an integer array nums, return true if the given array is monotonic, or false otherwise. Example 1: Input: nums = [1,2,2,3] Output: true\n",
    "\n"
   ]
  },
  {
   "cell_type": "code",
   "execution_count": 7,
   "metadata": {},
   "outputs": [
    {
     "data": {
      "text/plain": [
       "True"
      ]
     },
     "execution_count": 7,
     "metadata": {},
     "output_type": "execute_result"
    }
   ],
   "source": [
    "def monotonic(nums):\n",
    "    inc=dec=True\n",
    "    for i in range (len(nums)-1):\n",
    "        if nums[i]<=nums[i+1]:\n",
    "            dec=False\n",
    "        else:\n",
    "            inc=False\n",
    "    return inc or dec\n",
    "monotonic( [4,3,2,1])\n"
   ]
  },
  {
   "attachments": {},
   "cell_type": "markdown",
   "metadata": {},
   "source": [
    "Question 8 You are given an integer array nums and an integer k. In one operation, you can choose any index i where 0 <= i < nums.length and change nums[i] to nums[i] + x where x is an integer from the range [-k, k]. You can apply this operation at most once for each index i. The score of nums is the difference between the maximum and minimum elements in nums. Return the minimum score of nums after applying the mentioned operation at most once for each index in it. Example 1: Input: nums = [1], k = 0 Output: 0 Explanation: The score is max(nums) - min(nums) = 1 - 1 = 0."
   ]
  },
  {
   "cell_type": "code",
   "execution_count": 8,
   "metadata": {},
   "outputs": [
    {
     "name": "stdout",
     "output_type": "stream",
     "text": [
      "Minimum score: 0\n"
     ]
    }
   ],
   "source": [
    "def minScore(nums, k):\n",
    "    minimum = maximum = nums[0]\n",
    "\n",
    "    for i in range(1, len(nums)):\n",
    "        minimum = min(minimum, nums[i] - k)\n",
    "        maximum = max(maximum, nums[i] + k)\n",
    "\n",
    "    return max(0, maximum - minimum)\n",
    "nums = [1]\n",
    "k = 0\n",
    "result = minScore(nums, k)\n",
    "print(\"Minimum score:\", result)\n"
   ]
  }
 ],
 "metadata": {
  "kernelspec": {
   "display_name": "Python 3",
   "language": "python",
   "name": "python3"
  },
  "language_info": {
   "codemirror_mode": {
    "name": "ipython",
    "version": 3
   },
   "file_extension": ".py",
   "mimetype": "text/x-python",
   "name": "python",
   "nbconvert_exporter": "python",
   "pygments_lexer": "ipython3",
   "version": "3.8.16"
  },
  "orig_nbformat": 4
 },
 "nbformat": 4,
 "nbformat_minor": 2
}
